{
 "cells": [
  {
   "cell_type": "code",
   "execution_count": 52,
   "metadata": {
    "collapsed": false
   },
   "outputs": [
    {
     "name": "stdout",
     "output_type": "stream",
     "text": [
      "Request return 429 error!\n",
      "Login success!\n",
      "\n"
     ]
    },
    {
     "data": {
      "text/plain": [
       "True"
      ]
     },
     "execution_count": 52,
     "metadata": {},
     "output_type": "execute_result"
    }
   ],
   "source": [
    "from InstagramAPI import InstagramAPI\n",
    "username=\"YOUR USERNAME\" #type your user name here \n",
    "InstagramAPI = InstagramAPI(username, \"PWD\") #type your password on the pwd field\n",
    "InstagramAPI.login()"
   ]
  },
  {
   "cell_type": "code",
   "execution_count": 53,
   "metadata": {
    "collapsed": false
   },
   "outputs": [
    {
     "data": {
      "text/plain": [
       "True"
      ]
     },
     "execution_count": 53,
     "metadata": {},
     "output_type": "execute_result"
    }
   ],
   "source": [
    "InstagramAPI.getProfileData()"
   ]
  },
  {
   "cell_type": "code",
   "execution_count": null,
   "metadata": {
    "collapsed": false
   },
   "outputs": [],
   "source": [
    "result = InstagramAPI.LastJson #data will be received on json format\n",
    "print(result) #it will print the result "
   ]
  },
  {
   "cell_type": "code",
   "execution_count": 56,
   "metadata": {
    "collapsed": false
   },
   "outputs": [
    {
     "name": "stdout",
     "output_type": "stream",
     "text": [
      "ok\n"
     ]
    }
   ],
   "source": [
    "print(result['status'])"
   ]
  },
  {
   "cell_type": "code",
   "execution_count": 60,
   "metadata": {
    "collapsed": false
   },
   "outputs": [
    {
     "name": "stdout",
     "output_type": "stream",
     "text": [
      "Always ready for a cup of coffee 😉\n"
     ]
    }
   ],
   "source": [
    "print(result['user']['biography']) #print biography of yours"
   ]
  },
  {
   "cell_type": "code",
   "execution_count": null,
   "metadata": {
    "collapsed": false
   },
   "outputs": [],
   "source": [
    "print(result['user']['national_number']) #it will print your mobile number"
   ]
  },
  {
   "cell_type": "code",
   "execution_count": 74,
   "metadata": {
    "collapsed": false
   },
   "outputs": [
    {
     "data": {
      "text/plain": [
       "True"
      ]
     },
     "execution_count": 74,
     "metadata": {},
     "output_type": "execute_result"
    }
   ],
   "source": [
    "InstagramAPI.timelineFeed() #With this line you can get the timeline\n"
   ]
  },
  {
   "cell_type": "code",
   "execution_count": null,
   "metadata": {
    "collapsed": false
   },
   "outputs": [],
   "source": []
  },
  {
   "cell_type": "code",
   "execution_count": null,
   "metadata": {
    "collapsed": true
   },
   "outputs": [],
   "source": [
    "#Get All User Posts\n",
    "import time\n",
    "myposts=[]\n",
    "has_more_posts = True\n",
    "max_id=\"\"\n",
    "\n",
    "while has_more_posts:\n",
    "    InstagramAPI.getSelfUserFeed(maxid=max_id)\n",
    "    if InstagramAPI.LastJson['more_available'] is not True:\n",
    "        has_more_posts = False #stop condition\n",
    "        print (\"stopped\")\n",
    "    \n",
    "    max_id = InstagramAPI.LastJson.get('next_max_id','') #to get all the posts\n",
    "    myposts.extend(InstagramAPI.LastJson['items']) #merge lists\n",
    "    time.sleep(2) # Slows the script down to avoid flooding the servers \n",
    "    \n",
    "print(len(myposts))"
   ]
  },
  {
   "cell_type": "code",
   "execution_count": 83,
   "metadata": {
    "collapsed": true
   },
   "outputs": [],
   "source": [
    "#Save/Load Data to Disk\n",
    "import pickle\n",
    "filename=username+\"_posts\"\n",
    "pickle.dump(myposts,open(filename,\"wb\"))\n"
   ]
  },
  {
   "cell_type": "code",
   "execution_count": null,
   "metadata": {
    "collapsed": false
   },
   "outputs": [],
   "source": [
    "import pickle\n",
    "filename=\"your_file_name\" #write your filename here\n",
    "myposts=pickle.load(file=open(filename))"
   ]
  },
  {
   "cell_type": "code",
   "execution_count": 86,
   "metadata": {
    "collapsed": true
   },
   "outputs": [],
   "source": [
    "#Sort by Number of Likes\n",
    "\n",
    "myposts_sorted = sorted(myposts, key=lambda k:\n",
    "k['like_count'],reverse=True) \n",
    "top_posts=myposts_sorted[:10]\n",
    "bottom_posts=myposts_sorted[-10:]"
   ]
  },
  {
   "cell_type": "code",
   "execution_count": null,
   "metadata": {
    "collapsed": false
   },
   "outputs": [],
   "source": [
    "#Notifications\n",
    "InstagramAPI.getRecentActivity()\n",
    "get_recent_activity_response= InstagramAPI.LastJson \n",
    "for notifcation in get_recent_activity_response['old_stories']:\n",
    "    print(notifcation['args']['text']) #after printing this  you will get your notifications\n",
    "    "
   ]
  },
  {
   "cell_type": "code",
   "execution_count": null,
   "metadata": {
    "collapsed": true
   },
   "outputs": [],
   "source": [
    "#Notifications Only From One User\n",
    "username=\"\" #type your username here\n",
    "for notifcation in get_recent_activity_response['old_stories']:\n",
    "    text = notifcation['args']['text']\n",
    "    if username  in text:\n",
    "        print(text)"
   ]
  },
  {
   "cell_type": "code",
   "execution_count": 100,
   "metadata": {
    "collapsed": false
   },
   "outputs": [
    {
     "name": "stdout",
     "output_type": "stream",
     "text": [
      "True\n",
      "Request return 404 error!\n"
     ]
    }
   ],
   "source": [
    "#Getting All Followers\n",
    "import time\n",
    "\n",
    "followers   = []\n",
    "next_max_id = True\n",
    "while next_max_id:\n",
    "    print(next_max_id) \n",
    "    #first iteration hack\n",
    "    if next_max_id == True: next_max_id=''\n",
    "    _ = InstagramAPI.getUserFollowers(user_id,maxid=next_max_id)\n",
    "    followers.extend ( InstagramAPI.LastJson.get('users',[]))\n",
    "    next_max_id = InstagramAPI.LastJson.get('next_max_id','')\n",
    "    time.sleep(1) \n",
    "    \n",
    "followers_list=followers"
   ]
  },
  {
   "cell_type": "code",
   "execution_count": null,
   "metadata": {
    "collapsed": false
   },
   "outputs": [],
   "source": []
  },
  {
   "cell_type": "code",
   "execution_count": null,
   "metadata": {
    "collapsed": true
   },
   "outputs": [],
   "source": []
  }
 ],
 "metadata": {
  "kernelspec": {
   "display_name": "Python 3",
   "language": "python",
   "name": "python3"
  },
  "language_info": {
   "codemirror_mode": {
    "name": "ipython",
    "version": 3
   },
   "file_extension": ".py",
   "mimetype": "text/x-python",
   "name": "python",
   "nbconvert_exporter": "python",
   "pygments_lexer": "ipython3",
   "version": "3.6.0"
  }
 },
 "nbformat": 4,
 "nbformat_minor": 2
}
